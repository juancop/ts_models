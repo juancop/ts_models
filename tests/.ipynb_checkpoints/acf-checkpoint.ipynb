{
 "cells": [
  {
   "cell_type": "code",
   "execution_count": 1,
   "metadata": {},
   "outputs": [],
   "source": [
    "import numpy as np\n",
    "import pandas as pd\n",
    "from matplotlib import collections  as mc\n",
    "import pylab as pl\n",
    "import matplotlib.pyplot as plt"
   ]
  },
  {
   "cell_type": "code",
   "execution_count": 2,
   "metadata": {},
   "outputs": [],
   "source": [
    "def barlett(n, p):\n",
    "    sd = []\n",
    "    for k in range(len(p)):\n",
    "        sd.extend([np.sqrt((1 + sum([2*p_k**2 for p_k in p[:k+1]]))/n)])\n",
    "    return sd"
   ]
  },
  {
   "cell_type": "code",
   "execution_count": 3,
   "metadata": {},
   "outputs": [],
   "source": [
    "def acf(y, max_lags, barlett_ci = False, display = True):\n",
    "    if type(y) == list:\n",
    "        y = pd.DataFrame(y)\n",
    "    elif y == pd.core.frame.DataFrame:\n",
    "        pass\n",
    "    else: \n",
    "        print(\"Type {} not supported.\".format(type(y)))\n",
    "    mean = y.mean()[0]\n",
    "    var = y.var()[0]\n",
    "    _acf = []\n",
    "    T = len(y)\n",
    "    for p in range(max_lags+1):\n",
    "        tmp = pd.concat([y, y.shift(p)], axis = 1).dropna()\n",
    "        tmp = tmp-mean\n",
    "        mult = tmp.iloc[:, 0] * tmp.iloc[:, 1]\n",
    "        mult = mult.sum()/(var * (T-1))\n",
    "        _acf.append(mult)\n",
    "    if barlett_ci:\n",
    "        sd = barlett(T, _acf)\n",
    "    else:\n",
    "        sd = [np.sqrt(1/T)]*(max_lags+1)\n",
    "    \n",
    "    up_ci, lw_ci = [1.96*x for x in sd], [-1.96*x for x in sd]\n",
    "    coords = []\n",
    "    for x1, x2 in zip(range(max_lags+1), _acf):\n",
    "        coords.append([(x1, 0), (x1, x2)])\n",
    "    if display:\n",
    "        lc = mc.LineCollection(coords, linewidths=1, color = \"black\")\n",
    "        fig, ax = pl.subplots()\n",
    "        ax.add_collection(lc)\n",
    "        ax.autoscale()\n",
    "        ax.axhline(y=0, xmin=0.0, xmax=1, color = \"black\", linewidth = 1)\n",
    "        ax.plot(lw_ci, linestyle = \"--\", color = \"blue\", linewidth = 1)\n",
    "        ax.plot(up_ci, linestyle = \"--\", color = \"blue\", linewidth = 1)\n",
    "        ax.scatter(range(max_lags+1), _acf)\n",
    "        \n",
    "        return _acf\n",
    "    else:\n",
    "        return _acf, sd"
   ]
  },
  {
   "cell_type": "code",
   "execution_count": 4,
   "metadata": {},
   "outputs": [],
   "source": [
    "a = list(range(100))"
   ]
  },
  {
   "cell_type": "code",
   "execution_count": 5,
   "metadata": {},
   "outputs": [
    {
     "data": {
      "image/png": "[encoded data removed]",
      "text/plain": [
       "<Figure size 432x288 with 1 Axes>"
      ]
     },
     "metadata": {
      "needs_background": "light"
     },
     "output_type": "display_data"
    }
   ],
   "source": [
    "b = acf(y=a, max_lags = 10, barlett_ci=False)"
   ]
  },
  {
   "cell_type": "code",
   "execution_count": 6,
   "metadata": {},
   "outputs": [
    {
     "data": {
      "image/png": "[encoded data removed]",
      "text/plain": [
       "<Figure size 432x288 with 1 Axes>"
      ]
     },
     "metadata": {
      "needs_background": "light"
     },
     "output_type": "display_data"
    }
   ],
   "source": [
    "b = acf(y=a, max_lags=10, barlett_ci=True)"
   ]
  },
  {
   "cell_type": "code",
   "execution_count": null,
   "metadata": {},
   "outputs": [],
   "source": []
  }
 ],
 "metadata": {
  "kernelspec": {
   "display_name": "Python 3",
   "language": "python",
   "name": "python3"
  },
  "language_info": {
   "codemirror_mode": {
    "name": "ipython",
    "version": 3
   },
   "file_extension": ".py",
   "mimetype": "text/x-python",
   "name": "python",
   "nbconvert_exporter": "python",
   "pygments_lexer": "ipython3",
   "version": "3.7.0"
  }
 },
 "nbformat": 4,
 "nbformat_minor": 2
}
