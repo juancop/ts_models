{
 "cells": [
  {
   "cell_type": "code",
   "execution_count": 1,
   "metadata": {},
   "outputs": [],
   "source": [
    "import numpy as np\n",
    "import pandas as pd\n",
    "from matplotlib import collections  as mc\n",
    "import pylab as pl"
   ]
  },
  {
   "cell_type": "code",
   "execution_count": 202,
   "metadata": {},
   "outputs": [],
   "source": [
    "def acf(y, max_lags):\n",
    "    if type(y) == list:\n",
    "        y = pd.DataFrame(y)\n",
    "    elif y == pd.core.frame.DataFrame:\n",
    "        pass\n",
    "    else: \n",
    "        print(\"Type {} not supported.\".format(type(y)))\n",
    "    mean = y.mean()[0]\n",
    "    var = y.var()[0]\n",
    "    covariances = []\n",
    "    T = len(y)\n",
    "    for p in range(max_lags+1):\n",
    "        tmp = pd.concat([y, y.shift(p)], axis = 1).dropna()\n",
    "        tmp = tmp-mean\n",
    "        mult = tmp.iloc[:, 0] * tmp.iloc[:, 1]\n",
    "        mult = mult.sum()/(var * (T-1))\n",
    "        covariances.append(mult)\n",
    "        \n",
    "    coords = []\n",
    "    for x1, x2 in zip(range(max_lags+1), covariances):\n",
    "        coords.append([(x1, 0), (x1, x2)])\n",
    "    lc = mc.LineCollection(coords, linewidths=1, color = \"black\")\n",
    "    fig, ax = pl.subplots()\n",
    "    ax.add_collection(lc)\n",
    "    ax.autoscale()\n",
    "    #ax.margins(0.1)\n",
    "    ax.axhline(y=0, xmin=0.0, xmax=1, color = \"black\", linewidth = 1)\n",
    "        \n",
    "    return covariances"
   ]
  },
  {
   "cell_type": "code",
   "execution_count": 203,
   "metadata": {},
   "outputs": [],
   "source": [
    "a = list(range(100))"
   ]
  },
  {
   "cell_type": "code",
   "execution_count": 205,
   "metadata": {},
   "outputs": [
    {
     "data": {
      "image/png": "[encoded data removed]",
      "text/plain": [
       "<Figure size 432x288 with 1 Axes>"
      ]
     },
     "metadata": {
      "needs_background": "light"
     },
     "output_type": "display_data"
    }
   ],
   "source": [
    "b = acf(a, 100)"
   ]
  },
  {
   "cell_type": "code",
   "execution_count": 206,
   "metadata": {},
   "outputs": [
    {
     "data": {
      "image/png": "[encoded data removed]",
      "text/plain": [
       "<Figure size 432x288 with 1 Axes>"
      ]
     },
     "metadata": {
      "needs_background": "light"
     },
     "output_type": "display_data"
    }
   ],
   "source": [
    "plt.axvline(x=4, ymax=33)\n",
    "plt.show()"
   ]
  },
  {
   "cell_type": "code",
   "execution_count": 159,
   "metadata": {},
   "outputs": [
    {
     "data": {
      "image/png": "[encoded data removed]",
      "text/plain": [
       "<Figure size 432x288 with 1 Axes>"
      ]
     },
     "metadata": {
      "needs_background": "light"
     },
     "output_type": "display_data"
    }
   ],
   "source": [
    "import numpy as np\n",
    "import pylab as pl\n",
    "from matplotlib import collections  as mc\n",
    "\n",
    "lines = [[(0, 1), (1, 1)], [(2, 3), (3, 3)], [(1, 2), (1, 3)]]\n",
    "\n",
    "\n",
    "lc = mc.LineCollection(f, linewidths=2)\n",
    "fig, ax = pl.subplots()\n",
    "ax.add_collection(lc)\n",
    "ax.autoscale()\n",
    "ax.margins(0.1)"
   ]
  },
  {
   "cell_type": "code",
   "execution_count": 149,
   "metadata": {},
   "outputs": [],
   "source": [
    "c = list(range(len(b)))"
   ]
  },
  {
   "cell_type": "code",
   "execution_count": 157,
   "metadata": {},
   "outputs": [],
   "source": [
    "f = []\n"
   ]
  },
  {
   "cell_type": "code",
   "execution_count": 158,
   "metadata": {},
   "outputs": [
    {
     "data": {
      "text/plain": [
       "[[(0, 0), (0, 1.0)],\n",
       " [(1, 0), (1, 0.97)],\n",
       " [(2, 0), (2, 0.94001200120012)],\n",
       " [(3, 0), (3, 0.9100480048004801)],\n",
       " [(4, 0), (4, 0.8801200120012002)],\n",
       " [(5, 0), (5, 0.8502400240024003)],\n",
       " [(6, 0), (6, 0.8204200420042004)],\n",
       " [(7, 0), (7, 0.7906720672067207)],\n",
       " [(8, 0), (8, 0.761008100810081)],\n",
       " [(9, 0), (9, 0.7314401440144015)],\n",
       " [(10, 0), (10, 0.7019801980198019)],\n",
       " [(11, 0), (11, 0.6726402640264026)],\n",
       " [(12, 0), (12, 0.6434323432343234)],\n",
       " [(13, 0), (13, 0.6143684368436844)],\n",
       " [(14, 0), (14, 0.5854605460546055)],\n",
       " [(15, 0), (15, 0.5567206720672068)],\n",
       " [(16, 0), (16, 0.5281608160816081)],\n",
       " [(17, 0), (17, 0.4997929792979298)],\n",
       " [(18, 0), (18, 0.47162916291629164)],\n",
       " [(19, 0), (19, 0.4436813681368137)],\n",
       " [(20, 0), (20, 0.415961596159616)],\n",
       " [(21, 0), (21, 0.38848184818481846)],\n",
       " [(22, 0), (22, 0.36125412541254126)],\n",
       " [(23, 0), (23, 0.3342904290429043)],\n",
       " [(24, 0), (24, 0.3076027602760276)],\n",
       " [(25, 0), (25, 0.2812031203120312)],\n",
       " [(26, 0), (26, 0.2551035103510351)],\n",
       " [(27, 0), (27, 0.22931593159315933)],\n",
       " [(28, 0), (28, 0.20385238523852386)],\n",
       " [(29, 0), (29, 0.17872487248724872)],\n",
       " [(30, 0), (30, 0.15394539453945394)]]"
      ]
     },
     "execution_count": 158,
     "metadata": {},
     "output_type": "execute_result"
    }
   ],
   "source": [
    "f"
   ]
  },
  {
   "cell_type": "code",
   "execution_count": 191,
   "metadata": {},
   "outputs": [],
   "source": [
    "from statsmodels.graphics.tsaplots import plot_acf"
   ]
  },
  {
   "cell_type": "code",
   "execution_count": 192,
   "metadata": {},
   "outputs": [
    {
     "data": {
      "image/png": "[encoded data removed]",
      "text/plain": [
       "<Figure size 432x288 with 1 Axes>"
      ]
     },
     "execution_count": 192,
     "metadata": {},
     "output_type": "execute_result"
    },
    {
     "data": {
      "image/png": "[encoded data removed]",
      "text/plain": [
       "<Figure size 432x288 with 1 Axes>"
      ]
     },
     "metadata": {
      "needs_background": "light"
     },
     "output_type": "display_data"
    }
   ],
   "source": [
    "plot_acf(a)"
   ]
  },
  {
   "cell_type": "code",
   "execution_count": null,
   "metadata": {},
   "outputs": [],
   "source": []
  }
 ],
 "metadata": {
  "kernelspec": {
   "display_name": "Python 3",
   "language": "python",
   "name": "python3"
  },
  "language_info": {
   "codemirror_mode": {
    "name": "ipython",
    "version": 3
   },
   "file_extension": ".py",
   "mimetype": "text/x-python",
   "name": "python",
   "nbconvert_exporter": "python",
   "pygments_lexer": "ipython3",
   "version": "3.6.5"
  }
 },
 "nbformat": 4,
 "nbformat_minor": 2
}
