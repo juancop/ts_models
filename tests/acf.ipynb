{
 "cells": [
  {
   "cell_type": "code",
   "execution_count": 1,
   "metadata": {},
   "outputs": [],
   "source": [
    "import numpy as np\n",
    "import pandas as pd\n",
    "from matplotlib import collections  as mc\n",
    "import pylab as pl"
   ]
  },
  {
   "cell_type": "code",
   "execution_count": 202,
   "metadata": {},
   "outputs": [],
   "source": [
    "def acf(y, max_lags):\n",
    "    if type(y) == list:\n",
    "        y = pd.DataFrame(y)\n",
    "    elif y == pd.core.frame.DataFrame:\n",
    "        pass\n",
    "    else: \n",
    "        print(\"Type {} not supported.\".format(type(y)))\n",
    "    mean = y.mean()[0]\n",
    "    var = y.var()[0]\n",
    "    covariances = []\n",
    "    T = len(y)\n",
    "    for p in range(max_lags+1):\n",
    "        tmp = pd.concat([y, y.shift(p)], axis = 1).dropna()\n",
    "        tmp = tmp-mean\n",
    "        mult = tmp.iloc[:, 0] * tmp.iloc[:, 1]\n",
    "        mult = mult.sum()/(var * (T-1))\n",
    "        covariances.append(mult)\n",
    "        \n",
    "    coords = []\n",
    "    for x1, x2 in zip(range(max_lags+1), covariances):\n",
    "        coords.append([(x1, 0), (x1, x2)])\n",
    "    lc = mc.LineCollection(coords, linewidths=1, color = \"black\")\n",
    "    fig, ax = pl.subplots()\n",
    "    ax.add_collection(lc)\n",
    "    ax.autoscale()\n",
    "    #ax.margins(0.1)\n",
    "    ax.axhline(y=0, xmin=0.0, xmax=1, color = \"black\", linewidth = 1)\n",
    "        \n",
    "    return covariances"
   ]
  },
  {
   "cell_type": "code",
   "execution_count": 203,
   "metadata": {},
   "outputs": [],
   "source": [
    "a = list(range(100))"
   ]
  },
  {
   "cell_type": "code",
   "execution_count": 205,
   "metadata": {},
   "outputs": [
    {
     "data": {
      "image/png": "[encoded data removed]",
      "text/plain": [
       "<Figure size 432x288 with 1 Axes>"
      ]
     },
     "metadata": {
      "needs_background": "light"
     },
     "output_type": "display_data"
    }
   ],
   "source": [
    "b = acf(a, 100)"
   ]
  },
  {
   "cell_type": "code",
   "execution_count": 206,
   "metadata": {},
   "outputs": [
    {
     "data": {
      "image/png": "[encoded data removed]",
      "text/plain": [
       "<Figure size 432x288 with 1 Axes>"
      ]
     },
     "metadata": {
      "needs_background": "light"
     },
     "output_type": "display_data"
    }
   ],
   "source": [
    "plt.axvline(x=4, ymax=33)\n",
    "plt.show()"
   ]
  },
  {
   "cell_type": "code",
   "execution_count": 159,
   "metadata": {},
   "outputs": [
    {
     "data": {
      "image/png": "[encoded data removed]",
      "text/plain": [
       "<Figure size 432x288 with 1 Axes>"
      ]
     },
     "metadata": {
      "needs_background": "light"
     },
     "output_type": "display_data"
    }
   ],
   "source": [
    "import numpy as np\n",
    "import pylab as pl\n",
    "from matplotlib import collections  as mc\n",
    "\n",
    "lines = [[(0, 1), (1, 1)], [(2, 3), (3, 3)], [(1, 2), (1, 3)]]\n",
    "\n",
    "\n",
    "lc = mc.LineCollection(f, linewidths=2)\n",
    "fig, ax = pl.subplots()\n",
    "ax.add_collection(lc)\n",
    "ax.autoscale()\n",
    "ax.margins(0.1)"
   ]
  },
  {
   "cell_type": "code",
   "execution_count": 149,
   "metadata": {},
   "outputs": [],
   "source": [
    "c = list(range(len(b)))"
   ]
  },
  {
   "cell_type": "code",
   "execution_count": 157,
   "metadata": {},
   "outputs": [],
   "source": [
    "f = []\n"
   ]
  },
  {
   "cell_type": "code",
   "execution_count": 158,
   "metadata": {},
   "outputs": [
    {
     "data": {
      "text/plain": [
       "[[(0, 0), (0, 1.0)],\n",
       " [(1, 0), (1, 0.97)],\n",
       " [(2, 0), (2, 0.94001200120012)],\n",
       " [(3, 0), (3, 0.9100480048004801)],\n",
       " [(4, 0), (4, 0.8801200120012002)],\n",
       " [(5, 0), (5, 0.8502400240024003)],\n",
       " [(6, 0), (6, 0.8204200420042004)],\n",
       " [(7, 0), (7, 0.7906720672067207)],\n",
       " [(8, 0), (8, 0.761008100810081)],\n",
       " [(9, 0), (9, 0.7314401440144015)],\n",
       " [(10, 0), (10, 0.7019801980198019)],\n",
       " [(11, 0), (11, 0.6726402640264026)],\n",
       " [(12, 0), (12, 0.6434323432343234)],\n",
       " [(13, 0), (13, 0.6143684368436844)],\n",
       " [(14, 0), (14, 0.5854605460546055)],\n",
       " [(15, 0), (15, 0.5567206720672068)],\n",
       " [(16, 0), (16, 0.5281608160816081)],\n",
       " [(17, 0), (17, 0.4997929792979298)],\n",
       " [(18, 0), (18, 0.47162916291629164)],\n",
       " [(19, 0), (19, 0.4436813681368137)],\n",
       " [(20, 0), (20, 0.415961596159616)],\n",
       " [(21, 0), (21, 0.38848184818481846)],\n",
       " [(22, 0), (22, 0.36125412541254126)],\n",
       " [(23, 0), (23, 0.3342904290429043)],\n",
       " [(24, 0), (24, 0.3076027602760276)],\n",
       " [(25, 0), (25, 0.2812031203120312)],\n",
       " [(26, 0), (26, 0.2551035103510351)],\n",
       " [(27, 0), (27, 0.22931593159315933)],\n",
       " [(28, 0), (28, 0.20385238523852386)],\n",
       " [(29, 0), (29, 0.17872487248724872)],\n",
       " [(30, 0), (30, 0.15394539453945394)]]"
      ]
     },
     "execution_count": 158,
     "metadata": {},
     "output_type": "execute_result"
    }
   ],
   "source": [
    "f"
   ]
  },
  {
   "cell_type": "code",
   "execution_count": 235,
   "metadata": {},
   "outputs": [
    {
     "data": {
      "text/plain": [
       "[1.0,\n",
       " 0.97,\n",
       " 0.94001200120012,\n",
       " 0.9100480048004801,\n",
       " 0.8801200120012002,\n",
       " 0.8502400240024003,\n",
       " 0.8204200420042004,\n",
       " 0.7906720672067207,\n",
       " 0.761008100810081,\n",
       " 0.7314401440144015,\n",
       " 0.7019801980198019,\n",
       " 0.6726402640264026,\n",
       " 0.6434323432343234,\n",
       " 0.6143684368436844,\n",
       " 0.5854605460546055,\n",
       " 0.5567206720672068,\n",
       " 0.5281608160816081,\n",
       " 0.4997929792979298,\n",
       " 0.47162916291629164,\n",
       " 0.4436813681368137,\n",
       " 0.415961596159616,\n",
       " 0.38848184818481846,\n",
       " 0.36125412541254126,\n",
       " 0.3342904290429043,\n",
       " 0.3076027602760276,\n",
       " 0.2812031203120312,\n",
       " 0.2551035103510351,\n",
       " 0.22931593159315933,\n",
       " 0.20385238523852386,\n",
       " 0.17872487248724872,\n",
       " 0.15394539453945394,\n",
       " 0.12952595259525954,\n",
       " 0.10547854785478548,\n",
       " 0.08181518151815181,\n",
       " 0.05854785478547855,\n",
       " 0.03568856885688569,\n",
       " 0.013249324932493249,\n",
       " -0.008757875787578757,\n",
       " -0.03032103210321032,\n",
       " -0.05142814281428143,\n",
       " -0.07206720672067207,\n",
       " -0.09222622262226222,\n",
       " -0.1118931893189319,\n",
       " -0.13105610561056105,\n",
       " -0.1497029702970297,\n",
       " -0.16782178217821783,\n",
       " -0.1854005400540054,\n",
       " -0.20242724272427243,\n",
       " -0.21888988898889888,\n",
       " -0.23477647764776477,\n",
       " -0.25007500750075007,\n",
       " -0.26477347734773476,\n",
       " -0.27885988598859884,\n",
       " -0.29232223222322234,\n",
       " -0.30514851485148514,\n",
       " -0.31732673267326733,\n",
       " -0.32884488448844884,\n",
       " -0.3396909690969097,\n",
       " -0.3498529852985299,\n",
       " -0.3593189318931893,\n",
       " -0.36807680768076806,\n",
       " -0.3761146114611461,\n",
       " -0.38342034203420344,\n",
       " -0.38998199819982,\n",
       " -0.3957875787578758,\n",
       " -0.40082508250825083,\n",
       " -0.4050825082508251,\n",
       " -0.40854785478547856,\n",
       " -0.4112091209120912,\n",
       " -0.41305430543054306,\n",
       " -0.41407140714071405,\n",
       " -0.41424842484248425,\n",
       " -0.4135733573357336,\n",
       " -0.412034203420342,\n",
       " -0.4096189618961896,\n",
       " -0.4063156315631563,\n",
       " -0.4021122112211221,\n",
       " -0.396996699669967,\n",
       " -0.39095709570957093,\n",
       " -0.38398139813981397,\n",
       " -0.37605760576057606,\n",
       " -0.36717371737173715,\n",
       " -0.3573177317731773,\n",
       " -0.34647764776477646,\n",
       " -0.33464146414641466,\n",
       " -0.3217971797179718,\n",
       " -0.30793279327932793,\n",
       " -0.29303630363036304,\n",
       " -0.2770957095709571,\n",
       " -0.2600990099009901,\n",
       " -0.24203420342034204,\n",
       " -0.2228892889288929,\n",
       " -0.20265226522652266,\n",
       " -0.1813111311131113,\n",
       " -0.15885388538853884,\n",
       " -0.13526852685268526,\n",
       " -0.11054305430543054,\n",
       " -0.08466546654665466,\n",
       " -0.057623762376237626,\n",
       " -0.029405940594059404,\n",
       " 0.0]"
      ]
     },
     "execution_count": 235,
     "metadata": {},
     "output_type": "execute_result"
    }
   ],
   "source": [
    "b"
   ]
  },
  {
   "cell_type": "code",
   "execution_count": 247,
   "metadata": {},
   "outputs": [
    {
     "name": "stdout",
     "output_type": "stream",
     "text": [
      "-0.8267949192431123\n",
      "-0.7490520423267053\n",
      "-0.6821545769362352\n",
      "-0.6218567511704787\n",
      "-0.5661989655909099\n",
      "-0.5140784774988723\n",
      "-0.4647989427228344\n",
      "-0.41788578445035884\n",
      "-0.3729974318829528\n",
      "-0.3298777293304652\n",
      "-0.2883282950203935\n",
      "-0.24819145044480928\n",
      "-0.20933915167607925\n",
      "-0.17166552237279736\n",
      "-0.1350816483465217\n",
      "-0.09951184709235145\n",
      "-0.06489093082273695\n",
      "-0.031162157615363062\n",
      "0.0017243290716096316\n",
      "0.03381270670158182\n",
      "0.06514241805702758\n",
      "0.09574891851918826\n",
      "0.12566427256118679\n",
      "0.15491763313953316\n",
      "0.18353562884345898\n",
      "0.21154267740150456\n",
      "0.23896123964051924\n",
      "0.2658120247109317\n",
      "0.29211415497685655\n",
      "0.3178852971771735\n"
     ]
    }
   ],
   "source": [
    "n = len(a)\n",
    "sd = []\n",
    "for k in range(30):\n",
    "    print(np.sqrt((sum([2*p**2 for p in b[:k+1]]) + 1)/n) - b[k]) \n",
    "    sd.extend([np.sqrt((1 + sum([2*p**2 for p in b[:k+1]]))/n)])"
   ]
  },
  {
   "cell_type": "code",
   "execution_count": 238,
   "metadata": {},
   "outputs": [
    {
     "data": {
      "text/plain": [
       "1.1909479576732946"
      ]
     },
     "execution_count": 238,
     "metadata": {},
     "output_type": "execute_result"
    }
   ],
   "source": [
    "sd[1] + b[1]\n"
   ]
  },
  {
   "cell_type": "code",
   "execution_count": 239,
   "metadata": {},
   "outputs": [
    {
     "data": {
      "text/plain": [
       "[1.1732050807568877,\n",
       " 1.1909479576732946,\n",
       " 1.1978694254640048,\n",
       " 1.1982392584304815,\n",
       " 1.1940410584114904,\n",
       " 1.1864015705059283,\n",
       " 1.1760411412855665,\n",
       " 1.1634583499630824,\n",
       " 1.1490187697372092,\n",
       " 1.1330025586983377,\n",
       " 1.1156321010192105,\n",
       " 1.097089077607996,\n",
       " 1.0775255347925676,\n",
       " 1.0570713513145713,\n",
       " 1.0358394437626894,\n",
       " 1.013929497042062,\n",
       " 0.9914307013404793,\n",
       " 0.9684238009804966,\n",
       " 0.9449826549041929,\n",
       " 0.9211754429752093,\n",
       " 0.8970656103762595,\n",
       " 0.8727126148888251,\n",
       " 0.8481725233862694,\n",
       " 0.8234984912253418,\n",
       " 0.7987411493955142,\n",
       " 0.773948918025567,\n",
       " 0.7491682603425895,\n",
       " 0.7244438878972503,\n",
       " 0.6998189254539043,\n",
       " 0.675335042151671]"
      ]
     },
     "execution_count": 239,
     "metadata": {},
     "output_type": "execute_result"
    }
   ],
   "source": [
    "[t + y for t,y in zip(sd, b)]"
   ]
  },
  {
   "cell_type": "code",
   "execution_count": 191,
   "metadata": {},
   "outputs": [],
   "source": [
    "from statsmodels.graphics.tsaplots import plot_acf"
   ]
  },
  {
   "cell_type": "code",
   "execution_count": 248,
   "metadata": {},
   "outputs": [
    {
     "data": {
      "image/png": "[encoded data removed]",
      "text/plain": [
       "<Figure size 432x288 with 1 Axes>"
      ]
     },
     "execution_count": 248,
     "metadata": {},
     "output_type": "execute_result"
    },
    {
     "data": {
      "image/png": "[encoded data removed]",
      "text/plain": [
       "<Figure size 432x288 with 1 Axes>"
      ]
     },
     "metadata": {
      "needs_background": "light"
     },
     "output_type": "display_data"
    }
   ],
   "source": [
    "plot_acf(a, lags=30)"
   ]
  },
  {
   "cell_type": "code",
   "execution_count": null,
   "metadata": {},
   "outputs": [],
   "source": []
  }
 ],
 "metadata": {
  "kernelspec": {
   "display_name": "Python 3",
   "language": "python",
   "name": "python3"
  },
  "language_info": {
   "codemirror_mode": {
    "name": "ipython",
    "version": 3
   },
   "file_extension": ".py",
   "mimetype": "text/x-python",
   "name": "python",
   "nbconvert_exporter": "python",
   "pygments_lexer": "ipython3",
   "version": "3.6.5"
  }
 },
 "nbformat": 4,
 "nbformat_minor": 2
}
